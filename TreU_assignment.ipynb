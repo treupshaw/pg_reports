{
    "metadata": {
        "kernelspec": {
            "name": "SQL",
            "display_name": "SQL",
            "language": "sql"
        },
        "language_info": {
            "name": "sql",
            "version": ""
        }
    },
    "nbformat_minor": 2,
    "nbformat": 4,
    "cells": [
        {
            "cell_type": "markdown",
            "source": [
                "# **Database Sample - By Tre U. @ NSCC IT Campus**"
            ],
            "metadata": {
                "azdata_cell_guid": "30e8e50c-ac2f-4ad7-8c29-3ea4756b8cd5"
            },
            "attachments": {}
        },
        {
            "cell_type": "markdown",
            "source": [
                "# Section 1: Creating the Database\n",
                "\n",
                "This is sample database using fictional data sources for demonstration purposes. In this exercise, we will create a fact table connected to their related dimensions.  \n",
                "Afterwards, we will insert our data sources accordingly then query this new data to simulate a structured database for a health clinic.\n",
                "\n",
                "I will start by breaking down each portion of the script by section, beginning with the dimension tables.\n",
                "\n",
                "We will start with our first dimension by creating a \"Patients\" table. This table will be used to store all relevant information on an individual patient.\n",
                "\n",
                "The following columns will fill the \"Patients\" table once our SQL script executes:\n",
                "\n",
                "- **PatientID (Primary Key):** Unique Identifier for the Patient\n",
                "- **PatientName:** First and Last Name of Patient\n",
                "- **Gender:** Biological Gender of Patient\n",
                "- **Age:** Age of Patient\n",
                "- **Phone Number:** For contact purposes\n",
                "- **Email:** For contact purposes\n",
                "- **Insurance:** Indicates if the patient has insurance or not\n",
                "- **LastApptDate:** Indicates a date for the patient's last appointment\n",
                "\n",
                "Data types and constraints can be found in the SQL script. Upon execution, we shall create a \"Patients\" dimension table with the columns that were previously mentioned. Refer to the SQL script below."
            ],
            "metadata": {
                "azdata_cell_guid": "79519733-8ad9-4bca-80b3-776550a60f34"
            },
            "attachments": {}
        },
        {
            "cell_type": "code",
            "source": [
                "IF NOT EXISTS (SELECT * FROM INFORMATION_SCHEMA.TABLES WHERE TABLE_SCHEMA = 'dim' AND TABLE_NAME = 'Patients')\r\n",
                "BEGIN\r\n",
                "\r\n",
                "CREATE TABLE dim.Patients\r\n",
                "(\r\n",
                "    PatientID int NOT NULL,\r\n",
                "    PatientName nvarchar(50) NOT NULL,\r\n",
                "\tGender varchar(1) NOT NULL,\r\n",
                "    Age int NOT NULL,\r\n",
                "    PhoneNumber varchar(10) NOT NULL,\r\n",
                "    Email nvarchar(50) NULL,\r\n",
                "\tInsurance TinyInt NOT NULL\r\n",
                ");\r\n",
                "\r\n",
                "\tALTER TABLE dim.Patients\r\n",
                "\tADD CONSTRAINT PK_Patients PRIMARY KEY(PatientID);\r\n",
                "\r\n",
                "    ALTER TABLE dim.Patients\r\n",
                "    ADD CONSTRAINT CHK_Patients_Age CHECK (Age > 0);\r\n",
                "\r\n",
                "    ALTER TABLE dim.Patients\r\n",
                "    ADD CONSTRAINT CHK_Patients_Gender CHECK (Gender IN ('M', 'F'));\r\n",
                "END\r\n",
                "\r\n",
                "GO"
            ],
            "metadata": {
                "azdata_cell_guid": "8496266c-06ea-4e26-ad41-ae5ac1ad91f9",
                "language": "sql",
                "tags": [
                    "hide_input"
                ]
            },
            "outputs": [],
            "execution_count": null
        },
        {
            "cell_type": "markdown",
            "source": [
                "Next, we will start with our next dimension by creating a \"Dentists\" table.\n",
                "\n",
                "The following columns will fill the \"Dentists\" table. This table will be used to store all relevant information on an individual dentist.\n",
                "\n",
                "- **DentistID (Primary Key):** Unique identifier for the Dentist\n",
                "- **DentistName:** First and Last Name of Dentist\n",
                "- **Gender:** Gender of Dentist\n",
                "- **Age:** Age of Dentist\n",
                "- **PhoneNumber:** For contact purposes\n",
                "- **Email:** For contact purposes\n",
                "- **SpecialistTitle**: Title or Specialty Field/Service of Dentist\n",
                "- **TrainingStatus:** Indicates if the dentist is in training or not\n",
                "- **HireDate:** Indicates when the dentist was hired\n",
                "\n",
                "Data types and constraints can be found in the SQL script. Upon execution, we shall create a \"Dentists\" dimension table with the columns that were previously mentioned. Refer to the SQL script below."
            ],
            "metadata": {
                "azdata_cell_guid": "9667567d-6175-4ba5-8742-b7649731e20c"
            },
            "attachments": {}
        },
        {
            "cell_type": "code",
            "source": [
                "IF NOT EXISTS (SELECT * FROM INFORMATION_SCHEMA.TABLES WHERE TABLE_SCHEMA = 'dim' AND TABLE_NAME = 'Dentists')\r\n",
                "BEGIN\r\n",
                "\r\n",
                "CREATE TABLE dim.Dentists\r\n",
                "(\r\n",
                "    DentistID int NOT NULL,\r\n",
                "    DentistName nvarchar(50) NOT NULL,\r\n",
                "\tGender varchar(1) NOT NULL,\r\n",
                "    Age int NOT NULL,\r\n",
                "    PhoneNumber varchar(10) NOT NULL,\r\n",
                "    Email nvarchar(50) NULL,\r\n",
                "    SpecialistTitle nvarchar(20) NOT NULL,\r\n",
                "\tTrainingStatus TinyInt NOT NULL,\r\n",
                "    HireDate date NOT NULL\r\n",
                ");\r\n",
                "\r\n",
                "\tALTER TABLE dim.Dentists\r\n",
                "\tADD CONSTRAINT PK_Dentists PRIMARY KEY(DentistID);\r\n",
                "\r\n",
                "    ALTER TABLE dim.Dentists\r\n",
                "    ADD CONSTRAINT CHK_Dentists_Age CHECK (Age > 0);\r\n",
                "\r\n",
                "    ALTER TABLE dim.Dentists\r\n",
                "    ADD CONSTRAINT CHK_Dentists_Gender CHECK (Gender IN ('M', 'F'));\r\n",
                "END\r\n",
                "\r\n",
                "GO"
            ],
            "metadata": {
                "azdata_cell_guid": "3b9ebd28-d634-4ca5-9eaf-848844833ebc",
                "language": "sql",
                "tags": []
            },
            "outputs": [],
            "execution_count": null
        },
        {
            "cell_type": "markdown",
            "source": [
                "Continuing on, we will start with our next dimension by creating a \"Receptionists\" table.\n",
                "\n",
                "The following columns will fill the \"Receptionists\" table. This table will be used to store all relevant information on an individual receptionist.\n",
                "\n",
                "- **ReceptionistID (Primary Key):** Unique identifier for the receptionist\n",
                "- **ReceptionistName:** First and Last Name of the receptionist\n",
                "- **Gender:** Gender of receptionist\n",
                "- **Age:** Age of receptionist\n",
                "- **PhoneNumber:** For contact purposes\n",
                "- **Email:** For contact purposes\n",
                "- **HireDate:** Indicates when the receptionist was hired\n",
                "\n",
                "Data types and constraints can be found in the SQL script. Upon execution, we shall create a \"Receptionists\" dimension table with the columns that were previously mentioned. Refer to the SQL script below."
            ],
            "metadata": {
                "language": "sql",
                "azdata_cell_guid": "6c0c5576-46ba-4287-a91d-fab139062cf3"
            },
            "attachments": {}
        },
        {
            "cell_type": "code",
            "source": [
                "IF NOT EXISTS (SELECT * FROM INFORMATION_SCHEMA.TABLES WHERE TABLE_SCHEMA = 'dim' AND TABLE_NAME = 'Receptionists')\r\n",
                "BEGIN\r\n",
                "\r\n",
                "CREATE TABLE dim.Receptionists\r\n",
                "(\r\n",
                "    ReceptionistID int NOT NULL,\r\n",
                "    ReceptionistName nvarchar(50) NOT NULL,\r\n",
                "\tGender varchar(1) NOT NULL,\r\n",
                "    Age int NOT NULL,\r\n",
                "    PhoneNumber varchar(10) NOT NULL,\r\n",
                "    Email nvarchar(50) NULL,\r\n",
                "    HireDate date NOT NULL\r\n",
                ");\r\n",
                "\r\n",
                "\tALTER TABLE dim.Receptionists\r\n",
                "\tADD CONSTRAINT PK_Receptionists PRIMARY KEY(ReceptionistID);\r\n",
                "\r\n",
                "    ALTER TABLE dim.Receptionists\r\n",
                "    ADD CONSTRAINT CHK_Receptionists_Age CHECK (Age > 0);\r\n",
                "\r\n",
                "    ALTER TABLE dim.Receptionists\r\n",
                "    ADD CONSTRAINT CHK_Receptionists_Gender CHECK (Gender IN ('M', 'F'));\r\n",
                "END\r\n",
                "\r\n",
                "GO"
            ],
            "metadata": {
                "language": "sql",
                "azdata_cell_guid": "1c3eef42-4591-44e2-a6d2-e348e1c1c36a",
                "tags": [
                    "hide_input"
                ]
            },
            "outputs": [],
            "execution_count": null
        },
        {
            "cell_type": "markdown",
            "source": [
                "Moving on to our second last dimension table, we will create a \"Procedures\" table.\n",
                "\n",
                "The following columns will fill the \"Procedures\" table. This table will be used to store all relevant information on an individual procedure.\n",
                "\n",
                "- **ProcedureID (Primary Key):** Unique identifier for the procedure.\n",
                "- **ProcedureName:** Name of the procedure\n",
                "- **Category:** Which category or specialty the procedure belongs to.\n",
                "- **Description:** Text description of the procedure\n",
                "\n",
                "Data types and constraints can be found in the SQL script. Upon execution, we shall create a \"Procedures\" dimension table with the columns that were previously mentioned. Refer to the SQL script below."
            ],
            "metadata": {
                "language": "sql",
                "azdata_cell_guid": "355c30b2-4ce0-4ad8-b2b5-9dd094d31cf0"
            },
            "attachments": {}
        },
        {
            "cell_type": "code",
            "source": [
                "IF NOT EXISTS (SELECT * FROM INFORMATION_SCHEMA.TABLES WHERE TABLE_SCHEMA = 'dim' AND TABLE_NAME = 'Procedures')\r\n",
                "BEGIN\r\n",
                "\r\n",
                "CREATE TABLE dim.Procedures\r\n",
                "(\r\n",
                "    ProcedureID int NOT NULL,\r\n",
                "    ProcedureName nvarchar(50) NOT NULL,\r\n",
                "    Category nvarchar(50) NOT NULL,\r\n",
                "    Description ntext NULL,\r\n",
                ");\r\n",
                "\r\n",
                "    ALTER TABLE dim.Procedures\r\n",
                "\tADD CONSTRAINT PK_Procedures PRIMARY KEY(ProcedureID);\r\n",
                "\r\n",
                "END\r\n",
                "\r\n",
                "GO"
            ],
            "metadata": {
                "language": "sql",
                "azdata_cell_guid": "3140f28b-98a9-42a0-aaec-b78009c9e030",
                "tags": []
            },
            "outputs": [],
            "execution_count": null
        },
        {
            "cell_type": "markdown",
            "source": [
                "Moving on to our last dimension table, we will create a \"Calendar\" table.\n",
                "\n",
                "The following columns will fill the \"Calendar\" table. This table will be used to track and reference dates in other tables. \n",
                "\n",
                "- **DayID (Primary Key)**: Unique identifier for each day record.\n",
                "- **DateValue**: The actual date represented by the record.\n",
                "- **Year**: The year component of the date.\n",
                "- **Quarter**: The quarter of the year (1-4) the date falls in.\n",
                "- **Month**: The month component of the date as a numerical value (1-12).\n",
                "- **MonthName**: The full name of the month.\n",
                "- **MonthShort**: A three-letter abbreviation of the month name.\n",
                "- **Week**: The week number within the year.\n",
                "- **Day**: The day of the month.\n",
                "- **DayName**: The full name of the day of the week.\n",
                "- **DayShort**: A three-letter abbreviation of the day of the week.\n",
                "- **IsWeekday**: A bit flag indicating if the date is a weekday (1) or not (0).\n",
                "\n",
                "Data types and constraints can be found in the SQL script. Upon execution, we shall create a \"Calendar\" dimension table with the columns that were previously mentioned. Refer to the SQL script below."
            ],
            "metadata": {
                "language": "sql",
                "azdata_cell_guid": "4402c9a3-b7ec-40eb-80ec-8a7f62f17e7f"
            },
            "attachments": {}
        },
        {
            "cell_type": "code",
            "source": [
                "IF NOT EXISTS (SELECT * FROM INFORMATION_SCHEMA.TABLES WHERE TABLE_SCHEMA = 'dim' AND TABLE_NAME = 'Calendar')\r\n",
                "BEGIN\r\n",
                "  \r\n",
                "\r\n",
                "CREATE TABLE dim.Calendar\r\n",
                "(\r\n",
                "    DayID INT NOT NULL,\r\n",
                "    DateValue DATE NOT NULL,\r\n",
                "    Year INT NOT NULL,\r\n",
                "    Quarter INT NOT NULL,\r\n",
                "    Month INT NOT NULL,\r\n",
                "    MonthName VARCHAR(10) NOT NULL,\r\n",
                "\tMonthShort VARCHAR(3) NOT NULL,\r\n",
                "    Week INT NOT NULL,\r\n",
                "    Day INT NOT NULL,\r\n",
                "\tDayName VARCHAR(10) NOT NULL,\r\n",
                "\tDayShort VARCHAR(3) NOT NULL,\r\n",
                "    IsWeekday BIT\r\n",
                ")\r\n",
                "\r\n",
                "\tALTER TABLE dim.Calendar\r\n",
                "\tADD CONSTRAINT PK_Calendar_Julian PRIMARY KEY(DayID);\r\n",
                "END\r\n",
                "\r\n",
                "GO"
            ],
            "metadata": {
                "language": "sql",
                "azdata_cell_guid": "f6ca6f6a-5692-491d-996b-e578772b40e9",
                "tags": []
            },
            "outputs": [],
            "execution_count": null
        },
        {
            "cell_type": "markdown",
            "source": [
                "Now that all of our dimenstion tables are complete, it's time to create our fact tables.\n",
                "\n",
                "Currently, we have the following dimensions:\n",
                "\n",
                "- **Patients:** all relevant information from an individual patient\n",
                "- **Dentists:** employee information on an individual dentist\n",
                "- **Receptionists:** employee information on an individual receptionist\n",
                "- **Procedures:** all relevant information on an individual procedure\n",
                "- **Calendar:** used to track and reference dates in other tables\n",
                "\n",
                "For a sample that is meant to demonstrate understanding, I believe this is enough informaton to include for a sample database. If this were a true database, each dimension would contain different data depending on the needs of the client. For example, we could potentially add another dimension such as \"Referrals\" that stores all relevant informatoin from the referral clinic. For now, we will continue on with the 5 dimension tables we've just created.\n",
                "\n",
                "Now, we will create two fact tables, \"Appointments and ApptDetails\" which will allow us to manage the data efficiently. We will start with \"Appointments\" first.\n",
                "\n",
                "The following columns will fill the \"Appointments\" table. This table will be used to track and reference dates in other tables.\n",
                "\n",
                "- **AppointmentID (PK)**: Unique identifier for each appointment.\n",
                "- **fkPatient**: Links to patient's ID\n",
                "- **fkDentist**: Links to dentist's ID\n",
                "- **fkReceptionist**: Links to receptionist's ID\n",
                "- **fkCalendar**: Links to date ID\n",
                "- **AppointmentDate**: Date of the appointment.\n",
                "- **ApptCost**: Total cost of the appointment.\n",
                "- **ApptRev**: Total revenue from the appointment.\n",
                "- **ApptProf**: Total profit from the appointment.\n",
                "\n",
                "Data types and constraints can be found in the SQL script. Upon execution, we shall create an \"Appointments\" fact table with the columns that were previously mentioned. Refer to the SQL script below."
            ],
            "metadata": {
                "language": "sql",
                "azdata_cell_guid": "b54bd339-ed46-4b14-a920-baf7cffc88f6"
            },
            "attachments": {}
        },
        {
            "cell_type": "code",
            "source": [
                "IF EXISTS (SELECT * FROM INFORMATION_SCHEMA.TABLES WHERE TABLE_SCHEMA = 'f' AND TABLE_NAME = 'Appointments')\r\n",
                "BEGIN \r\n",
                "\tDROP TABLE f.Appointments;\r\n",
                "END\r\n",
                "\r\n",
                "GO\r\n",
                "\r\n",
                "CREATE TABLE f.Appointments(\r\n",
                "\tAppointmentID int NOT NULL,\r\n",
                "    fkPatient int NOT NULL,\r\n",
                "    fkDentist int NOT NULL,\r\n",
                "    fkReceptionist int NOT NULL,\r\n",
                "    fkCalendar int NOT NULL,\r\n",
                "\tAppointmentDate date NOT NULL,\r\n",
                "\tApptCost money NOT NULL,\r\n",
                "\tApptRev money NOT NULL,\r\n",
                "\tApptProf money NOT NULL\r\n",
                "\t\r\n",
                ");\r\n",
                "\r\n",
                "ALTER TABLE f.Appointments\r\n",
                "ADD CONSTRAINT PK_ApptDetails \r\n",
                "\tPRIMARY KEY(AppointmentID)\r\n",
                "\r\n",
                ";\r\n",
                "\r\n",
                "ALTER TABLE f.Appointments ADD CONSTRAINT FK_Appointments_Patient \r\n",
                "FOREIGN KEY (fkPatient) \r\n",
                "REFERENCES dim.Patients(PatientID)\r\n",
                "\r\n",
                ";\r\n",
                "\r\n",
                "\r\n",
                "ALTER TABLE f.Appointments \r\n",
                "ADD CONSTRAINT FK_Appointments_Dentist \r\n",
                "\tFOREIGN KEY (fkDentist) \r\n",
                "\t REFERENCES dim.Dentists(DentistID)\r\n",
                "\r\n",
                ";\r\n",
                "\r\n",
                "\r\n",
                "ALTER TABLE f.Appointments \r\n",
                "ADD CONSTRAINT FK_Appointments_Receptionist \r\n",
                "\tFOREIGN KEY (fkReceptionist) \r\n",
                "\t REFERENCES dim.Receptionists(ReceptionistID)\r\n",
                "\r\n",
                ";\r\n",
                "\r\n",
                "ALTER TABLE f.Appointments \r\n",
                "ADD CONSTRAINT FK_Appointments_Calendar \r\n",
                "FOREIGN KEY (fkCalendar) \r\n",
                "REFERENCES dim.Calendar(pkCalendar)\r\n",
                "\r\n",
                "\r\n",
                "\r\n",
                ";"
            ],
            "metadata": {
                "language": "sql",
                "azdata_cell_guid": "3eeaca32-c5a9-417c-b242-9f76ba731b6c",
                "tags": []
            },
            "outputs": [],
            "execution_count": null
        },
        {
            "cell_type": "markdown",
            "source": [
                "Next, we will create our last fact table, \"ApptDetails\" which will allow us to work with quantitive data and breakdown each appointment in detail.\n",
                "\n",
                "The following columns will fill the \"ApptDetails\" table. \n",
                "\n",
                "- **AppointmentID (PK)**: Links to the appointment's ID\n",
                "- **ProcedureID (PK)**: Links to the procedure's ID\n",
                "- **ProcedureCount**: Number of times the procedure was performed.\n",
                "- **ProcedureCost**: Total cost of the procedure.\n",
                "- **ProcedureRev**: Total revenue generated from the procedure.\n",
                "- **ProcedureProf**: Total profit from the procedure.\n",
                "\n",
                "Data types and constraints can be found in the SQL script. Upon execution, we shall create a \"ApptDetails\" fact table with the columns that were previously mentioned. Refer to the SQL script below."
            ],
            "metadata": {
                "language": "sql",
                "azdata_cell_guid": "ee3b64cb-32b0-4f0d-9b71-d12b47a9f6cd"
            },
            "attachments": {}
        },
        {
            "cell_type": "code",
            "source": [
                "IF EXISTS (SELECT * FROM INFORMATION_SCHEMA.TABLES WHERE TABLE_SCHEMA = 'f' AND TABLE_NAME = 'ApptDetails')\r\n",
                "BEGIN \r\n",
                "\tDROP TABLE f.ApptDetails;\r\n",
                "END\r\n",
                "\r\n",
                "GO\r\n",
                "\r\n",
                "CREATE TABLE f.ApptDetails(\r\n",
                "\tAppointmentID int NOT NULL,\r\n",
                "    ProcedureID int NOT NULL,\r\n",
                "\tProcedureCount int NOT NULL,\r\n",
                "\tProcedureCost money NOT NULL,\r\n",
                "\tProcedureRev money NOT NULL,\r\n",
                "\tProcedureProf money NOT NULL\r\n",
                "    \r\n",
                ");\r\n",
                "\r\n",
                "ALTER TABLE f.ApptDetails\r\n",
                "ADD CONSTRAINT PK_APP_Details \r\n",
                "\tPRIMARY KEY(AppointmentID, ProcedureID)\r\n",
                "\r\n",
                ";\r\n",
                "\r\n",
                "ALTER TABLE f.ApptDetails \r\n",
                "ADD CONSTRAINT FK_ApptDetails_Appointment \r\n",
                "\tFOREIGN KEY (AppointmentID) \r\n",
                "\tREFERENCES f.Appointments(AppointmentID)\r\n",
                "\r\n",
                ";\r\n",
                "\r\n",
                "ALTER TABLE f.ApptDetails \r\n",
                "ADD CONSTRAINT FK_ApptDetails_Procedure \r\n",
                "\tFOREIGN KEY (ProcedureID) \r\n",
                "\t REFERENCES dim.Procedures(ProcedureID)\r\n",
                "\r\n",
                "     ;"
            ],
            "metadata": {
                "language": "sql",
                "azdata_cell_guid": "f2ff5727-29bc-425d-9390-e26c57ce3a8d",
                "tags": [
                    "hide_input"
                ]
            },
            "outputs": [],
            "execution_count": null
        },
        {
            "cell_type": "markdown",
            "source": [
                "Now that we have all of our dimension tables and fact tables, we possess a strong foundation for an initial database structure.\n",
                "\n",
                "We can tailor this database to the specific needs of the client, whether we add new columns to existing tables or add new dimension and fact tables depending on their requirements.\n",
                "\n",
                "I will post the full script below that will combine the code in all the above sections, followed by a screenshot of the database diagram in MSSQL to confirm the work done."
            ],
            "metadata": {
                "language": "sql",
                "azdata_cell_guid": "d6023ec9-cb78-4a2a-b3a7-60075a0e11df"
            },
            "attachments": {}
        },
        {
            "cell_type": "code",
            "source": [
                "//* NOTE: Before running the script, ensure your schema is properly selected. If you are just running this for testing,\r\n",
                "be sure to create f and dim schemas if you don't already have them. The code can be found below.\r\n",
                "\r\n",
                "This script is considered basic DDL operation, and is served to highlight a foundational understanding. *//\r\n",
                "\r\n",
                "-----------------------------------------\r\n",
                "--Create or select your schemas--\r\n",
                "-----------------------------------------\r\n",
                "\r\n",
                "IF NOT EXISTS (SELECT * FROM sys.schemas WHERE name = 'dim')\r\n",
                "EXEC('CREATE SCHEMA dim')\r\n",
                "\r\n",
                "IF NOT EXISTS (SELECT * FROM sys.schemas WHERE name = 'f')\r\n",
                "EXEC('CREATE SCHEMA f')\r\n",
                "\r\n",
                "-----------------------------------------\r\n",
                "--Create a dimension table for Patients--\r\n",
                "-----------------------------------------\r\n",
                "\r\n",
                "IF NOT EXISTS (SELECT * FROM INFORMATION_SCHEMA.TABLES WHERE TABLE_SCHEMA = 'dim' AND TABLE_NAME = 'Patients')\r\n",
                "BEGIN\r\n",
                "\r\n",
                "CREATE TABLE dim.Patients\r\n",
                "(\r\n",
                "    PatientID int NOT NULL,\r\n",
                "    PatientName nvarchar(50) NOT NULL,\r\n",
                "\tGender varchar(1) NOT NULL,\r\n",
                "    Age int NOT NULL,\r\n",
                "    PhoneNumber varchar(10) NOT NULL,\r\n",
                "    Email nvarchar(50) NULL,\r\n",
                "\tInsurance TinyInt NOT NULL\r\n",
                ");\r\n",
                "\r\n",
                "\tALTER TABLE dim.Patients\r\n",
                "\tADD CONSTRAINT PK_Patients PRIMARY KEY(PatientID);\r\n",
                "\r\n",
                "    ALTER TABLE dim.Patients\r\n",
                "    ADD CONSTRAINT CHK_Patients_Age CHECK (Age > 0);\r\n",
                "\r\n",
                "    ALTER TABLE dim.Patients\r\n",
                "    ADD CONSTRAINT CHK_Patients_Gender CHECK (Gender IN ('M', 'F'));\r\n",
                "END\r\n",
                "\r\n",
                "GO\r\n",
                "\r\n",
                "-----------------------------------------\r\n",
                "--Create a dimension table for Dentists--\r\n",
                "-----------------------------------------\r\n",
                "\r\n",
                "IF NOT EXISTS (SELECT * FROM INFORMATION_SCHEMA.TABLES WHERE TABLE_SCHEMA = 'dim' AND TABLE_NAME = 'Dentists')\r\n",
                "BEGIN\r\n",
                "\r\n",
                "CREATE TABLE dim.Dentists\r\n",
                "(\r\n",
                "    DentistID int NOT NULL,\r\n",
                "    DentistName nvarchar(50) NOT NULL,\r\n",
                "\tGender varchar(1) NOT NULL,\r\n",
                "    Age int NOT NULL,\r\n",
                "    PhoneNumber varchar(10) NOT NULL,\r\n",
                "    Email nvarchar(50) NULL,\r\n",
                "    SpecialistTitle nvarchar(20) NOT NULL,\r\n",
                "\tTrainingStatus TinyInt NOT NULL,\r\n",
                "    HireDate date NOT NULL\r\n",
                ");\r\n",
                "\r\n",
                "\tALTER TABLE dim.Dentists\r\n",
                "\tADD CONSTRAINT PK_Dentists PRIMARY KEY(DentistID);\r\n",
                "\r\n",
                "    ALTER TABLE dim.Dentists\r\n",
                "    ADD CONSTRAINT CHK_Dentists_Age CHECK (Age > 0);\r\n",
                "\r\n",
                "    ALTER TABLE dim.Dentists\r\n",
                "    ADD CONSTRAINT CHK_Dentists_Gender CHECK (Gender IN ('M', 'F'));\r\n",
                "END\r\n",
                "\r\n",
                "GO\r\n",
                "\r\n",
                "----------------------------------------------\r\n",
                "--Create a dimension table for Receptionists\r\n",
                "----------------------------------------------\r\n",
                "\r\n",
                "IF NOT EXISTS (SELECT * FROM INFORMATION_SCHEMA.TABLES WHERE TABLE_SCHEMA = 'dim' AND TABLE_NAME = 'Receptionists')\r\n",
                "BEGIN\r\n",
                "\r\n",
                "CREATE TABLE dim.Receptionists\r\n",
                "(\r\n",
                "    ReceptionistID int NOT NULL,\r\n",
                "    ReceptionistName nvarchar(50) NOT NULL,\r\n",
                "\tGender varchar(1) NOT NULL,\r\n",
                "    Age int NOT NULL,\r\n",
                "    PhoneNumber varchar(10) NOT NULL,\r\n",
                "    Email nvarchar(50) NULL,\r\n",
                "    HireDate date NOT NULL\r\n",
                ");\r\n",
                "\r\n",
                "\tALTER TABLE dim.Receptionists\r\n",
                "\tADD CONSTRAINT PK_Receptionists PRIMARY KEY(ReceptionistID);\r\n",
                "\r\n",
                "    ALTER TABLE dim.Receptionists\r\n",
                "    ADD CONSTRAINT CHK_Receptionists_Age CHECK (Age > 0);\r\n",
                "\r\n",
                "    ALTER TABLE dim.Receptionists\r\n",
                "    ADD CONSTRAINT CHK_Receptionists_Gender CHECK (Gender IN ('M', 'F'));\r\n",
                "END\r\n",
                "\r\n",
                "GO\r\n",
                "\r\n",
                "-------------------------------------------\r\n",
                "--Create a dimension table for Procedures--\r\n",
                "-------------------------------------------\r\n",
                "\r\n",
                "IF NOT EXISTS (SELECT * FROM INFORMATION_SCHEMA.TABLES WHERE TABLE_SCHEMA = 'dim' AND TABLE_NAME = 'Procedures')\r\n",
                "BEGIN\r\n",
                "\r\n",
                "CREATE TABLE dim.Procedures\r\n",
                "(\r\n",
                "    ProcedureID int NOT NULL,\r\n",
                "    ProcedureName nvarchar(50) NOT NULL,\r\n",
                "\tProcedureCost money NOT NULL,\r\n",
                "    Category nvarchar(50) NOT NULL,\r\n",
                "    Description ntext NULL\r\n",
                ");\r\n",
                "\r\n",
                "    ALTER TABLE dim.Procedures\r\n",
                "\tADD CONSTRAINT PK_Procedures PRIMARY KEY(ProcedureID);\r\n",
                "\r\n",
                "END\r\n",
                "\r\n",
                "GO\r\n",
                "\r\n",
                "-------------------------------------------\r\n",
                "--Create a dimension table for your dates--\r\n",
                "-------------------------------------------\r\n",
                "\r\n",
                "IF NOT EXISTS (SELECT * FROM INFORMATION_SCHEMA.TABLES WHERE TABLE_SCHEMA = 'dim' AND TABLE_NAME = 'Calendar')\r\n",
                "BEGIN\r\n",
                "  \r\n",
                "\r\n",
                "CREATE TABLE dim.Calendar\r\n",
                "(\r\n",
                "    DayID INT NOT NULL,\r\n",
                "    DateValue DATE NOT NULL,\r\n",
                "    Year INT NOT NULL,\r\n",
                "    Quarter INT NOT NULL,\r\n",
                "    Month INT NOT NULL,\r\n",
                "    MonthName VARCHAR(10) NOT NULL,\r\n",
                "\tMonthShort VARCHAR(3) NOT NULL,\r\n",
                "    Week INT NOT NULL,\r\n",
                "    Day INT NOT NULL,\r\n",
                "\tDayName VARCHAR(10) NOT NULL,\r\n",
                "\tDayShort VARCHAR(3) NOT NULL,\r\n",
                "    IsWeekday BIT\r\n",
                ")\r\n",
                "\r\n",
                "\tALTER TABLE dim.Calendar\r\n",
                "\tADD CONSTRAINT PK_Calendar_Julian PRIMARY KEY(DayID);\r\n",
                "END\r\n",
                "\r\n",
                "GO\r\n",
                "\r\n",
                "----------------------------------------\r\n",
                "--Create a fact table for Appointments--\r\n",
                "----------------------------------------\r\n",
                "\r\n",
                "IF EXISTS (SELECT * FROM INFORMATION_SCHEMA.TABLES WHERE TABLE_SCHEMA = 'f' AND TABLE_NAME = 'Appointments')\r\n",
                "BEGIN \r\n",
                "\tDROP TABLE f.Appointments;\r\n",
                "END\r\n",
                "\r\n",
                "GO\r\n",
                "\r\n",
                "CREATE TABLE f.Appointments(\r\n",
                "\tAppointmentID int NOT NULL,\r\n",
                "    fkPatient int NOT NULL,\r\n",
                "    fkDentist int NOT NULL,\r\n",
                "    fkReceptionist int NOT NULL,\r\n",
                "    fkCalendar int NOT NULL,\r\n",
                "\tAppointmentDate date NOT NULL,\r\n",
                "\tApptCost money NOT NULL,\r\n",
                "\tApptRev money NOT NULL,\r\n",
                "\tApptProf money NOT NULL\r\n",
                "\t\r\n",
                ");\r\n",
                "\r\n",
                "ALTER TABLE f.Appointments\r\n",
                "ADD CONSTRAINT PK_ApptDetails \r\n",
                "\tPRIMARY KEY(AppointmentID)\r\n",
                "\r\n",
                ";\r\n",
                "\r\n",
                "ALTER TABLE f.Appointments ADD CONSTRAINT FK_Appointments_Patient \r\n",
                "FOREIGN KEY (fkPatient) \r\n",
                "REFERENCES dim.Patients(PatientID)\r\n",
                "\r\n",
                ";\r\n",
                "\r\n",
                "\r\n",
                "ALTER TABLE f.Appointments \r\n",
                "ADD CONSTRAINT FK_Appointments_Dentist \r\n",
                "\tFOREIGN KEY (fkDentist) \r\n",
                "\t REFERENCES dim.Dentists(DentistID)\r\n",
                "\r\n",
                ";\r\n",
                "\r\n",
                "\r\n",
                "ALTER TABLE f.Appointments \r\n",
                "ADD CONSTRAINT FK_Appointments_Receptionist \r\n",
                "\tFOREIGN KEY (fkReceptionist) \r\n",
                "\t REFERENCES dim.Receptionists(ReceptionistID)\r\n",
                "\r\n",
                ";\r\n",
                "\r\n",
                "ALTER TABLE f.Appointments \r\n",
                "ADD CONSTRAINT FK_Appointments_Calendar \r\n",
                "FOREIGN KEY (fkCalendar) \r\n",
                "REFERENCES dim.Calendar(DayID)\r\n",
                "\r\n",
                ";\r\n",
                "\r\n",
                "\r\n",
                "---------------------------------------\r\n",
                "--Create a fact table for Appointments--\r\n",
                "----------------------------------------\r\n",
                "\r\n",
                "\r\n",
                "IF EXISTS (SELECT * FROM INFORMATION_SCHEMA.TABLES WHERE TABLE_SCHEMA = 'f' AND TABLE_NAME = 'ApptDetails')\r\n",
                "BEGIN \r\n",
                "\tDROP TABLE f.ApptDetails;\r\n",
                "END\r\n",
                "\r\n",
                "GO\r\n",
                "\r\n",
                "CREATE TABLE f.ApptDetails(\r\n",
                "\tAppointmentID int NOT NULL,\r\n",
                "    ProcedureID int NOT NULL,\r\n",
                "\tProcedureCount int NOT NULL,\r\n",
                "\tProcedureCost money NOT NULL,\r\n",
                "\tProcedureRev money NOT NULL,\r\n",
                "\tProcedureProf money NOT NULL\r\n",
                "    \r\n",
                ");\r\n",
                "\r\n",
                "ALTER TABLE f.ApptDetails\r\n",
                "ADD CONSTRAINT PK_APP_Details \r\n",
                "\tPRIMARY KEY(AppointmentID, ProcedureID)\r\n",
                "\r\n",
                ";\r\n",
                "\r\n",
                "ALTER TABLE f.ApptDetails \r\n",
                "ADD CONSTRAINT FK_ApptDetails_Appointment \r\n",
                "\tFOREIGN KEY (AppointmentID) \r\n",
                "\tREFERENCES f.Appointments(AppointmentID)\r\n",
                "\r\n",
                ";\r\n",
                "\r\n",
                "ALTER TABLE f.ApptDetails \r\n",
                "ADD CONSTRAINT FK_ApptDetails_Procedure \r\n",
                "\tFOREIGN KEY (ProcedureID) \r\n",
                "\t REFERENCES dim.Procedures(ProcedureID)\r\n",
                "\r\n",
                "     ;"
            ],
            "metadata": {
                "language": "sql",
                "azdata_cell_guid": "d3cf7538-c8a8-43d3-a6ae-8d33fceabbb3"
            },
            "outputs": [],
            "execution_count": null
        },
        {
            "cell_type": "markdown",
            "source": [
                "![Database Diagram](https://i.imgur.com/x7WClJT.png)"
            ],
            "metadata": {
                "language": "sql",
                "azdata_cell_guid": "5bfcb4c6-312c-460b-bb2c-17f847804c87"
            },
            "attachments": {}
        },
        {
            "cell_type": "markdown",
            "source": [
                "# Section 2: Inserting and Querying Data\n",
                "\n",
                "Now that we've created our database and verified our relationships, we're ready to test it out.\n",
                "\n",
                "Since we are using a niche that is protected by patient confidentiality, we will generate fake customer data to simulate a real scenario. \n",
                "\n",
                "Let's get started by filling these empty cells. We will use just 10 rows of data for each table for simplicity of demonstration."
            ],
            "metadata": {
                "language": "sql",
                "azdata_cell_guid": "6c0e43a1-59d8-4587-ba43-053d5988b6ac"
            },
            "attachments": {}
        },
        {
            "cell_type": "markdown",
            "source": [
                "Before we begin, it's important that we properly simulate data by using our own calendar script to populate the Calendar table. \n",
                "\n",
                "First, we need to declare a few variables. In the same execution, we will populate the Calendar table with these variables with some slightly modified code."
            ],
            "metadata": {
                "language": "sql",
                "azdata_cell_guid": "0a31e69c-7e14-4ba6-a375-6b39a8e2633d"
            },
            "attachments": {}
        },
        {
            "cell_type": "code",
            "source": [
                "-- Declare variables\r\n",
                "DECLARE @StartDate DATE = '1996-01-01'\r\n",
                "DECLARE @EndDate DATE = DATEADD(year, 5, GETDATE())\r\n",
                "DECLARE @Date DATE = @StartDate\r\n",
                "DECLARE @DayID INT = 1\r\n",
                "\r\n",
                "-- Populate the Calendar table\r\n",
                "WHILE @Date <= @EndDate\r\n",
                "BEGIN\r\n",
                "    INSERT INTO dim.Calendar (DayID, DateValue, Year, Quarter, Month,  MonthName, MonthShort, Week, Day, DayName, DayShort, IsWeekday)\r\n",
                "    VALUES (\r\n",
                "        @DayID,\r\n",
                "        @Date,\r\n",
                "        YEAR(@Date),\r\n",
                "        DATEPART(QUARTER, @Date),\r\n",
                "        MONTH(@Date),\r\n",
                "        DATENAME(MONTH, @Date),\r\n",
                "\t\tLEFT(DATENAME(MONTH, @Date),3),\r\n",
                "        DATEPART(WEEK, @Date),\r\n",
                "        DAY(@Date),\r\n",
                "\t\tDATENAME(WEEKDAY, @Date),\r\n",
                "\t\tLEFT(DATENAME(WEEKDAY, @Date),3),\r\n",
                "        CASE WHEN DATEPART(WEEKDAY, @Date) IN (1, 7) THEN 0 ELSE 1 END -- Set IsWeekday to 0 for Saturday (1) and Sunday (7), and 1 for weekdays\r\n",
                "    )\r\n",
                "\r\n",
                "    -- Increment the date and day ID\r\n",
                "    SET @Date = DATEADD(DAY, 1, @Date)\r\n",
                "    SET @DayID = @DayID + 1\r\n",
                "END\r\n",
                ""
            ],
            "metadata": {
                "language": "sql",
                "azdata_cell_guid": "929db739-909a-4258-b7c2-f51562ac064f"
            },
            "outputs": [],
            "execution_count": null
        },
        {
            "cell_type": "markdown",
            "source": [
                "Now that the Calendar table is set up correctly, we will have no issues later with any tables associated with a date.  \n",
                "  \n",
                "Instead of listing each table section by section, I will list the order of each table briefly then follow it up with the SQL code.  \n",
                "  \n",
                "If you want a reminder on which column belongs to which table, you can scroll back up to the previous sections and use them as an additional refence.  \n",
                "  \n",
                "Each column has a brief description associated next to their name in Section 1.  \n",
                "  \n",
                "Let's start. Here is the order of the tables in which we will be inserting data into:  \n",
                "  \n",
                "\n",
                "- Patients\n",
                "- Dentists\n",
                "- Receptionists\n",
                "- Procedures\n",
                "- Appointments\n",
                "- ApptDetails\n",
                "\n",
                "Again, we will be using fake data since this is a niche usually involved with patient confidentiality. Please refer to the SQL code below."
            ],
            "metadata": {
                "language": "sql",
                "azdata_cell_guid": "9dc6d95d-44a7-4ab7-855d-9a4677b59952"
            },
            "attachments": {}
        },
        {
            "cell_type": "code",
            "source": [
                "            ------------Patients------------\r\n",
                "\r\n",
                "\r\n",
                "INSERT INTO dim.Patients (PatientID, PatientName, Gender, Age, PhoneNumber, Email, Insurance) \r\n",
                "VALUES  (1, 'John Doe', 'M', 30, '1234567890', 'john.doe@email.com', 1),\r\n",
                "\t\t(2, 'Jane Smith', 'F', 25, '2345678901', 'jane.smith@email.com', 1),\r\n",
                "\t\t(3, 'Alice Johnson', 'F', 40, '3456789012', 'alice.johnson@email.com', 0),\r\n",
                "\t\t(4, 'Bob Miller', 'M', 52, '4567890123', 'bob.miller@email.com', 0),\r\n",
                "\t\t(5, 'Samantha Green', 'F', 28, '5678901234', 'samantha.green@email.com', 1),\r\n",
                "\t\t(6, 'Gary White', 'M', 47, '6789012345', 'gary.white@email.com', 1),\r\n",
                "\t\t(7, 'Laura Black', 'F', 33, '7890123456', 'laura.black@email.com', 0),\r\n",
                "\t\t(8, 'Tim Reed', 'M', 37, '8901234567', 'tim.reed@email.com', 1),\r\n",
                "\t\t(9, 'Susan King', 'F', 45, '9012345678', 'susan.king@email.com', 0),\r\n",
                "\t\t(10, 'Chris Fisher', 'M', 50, '1234567890', 'chris.fisher@email.com', 1);\r\n",
                "\r\n",
                "\r\n",
                "           ------------Dentists------------\r\n",
                "\r\n",
                "\r\n",
                "INSERT INTO dim.Dentists (DentistID, DentistName, Gender, Age, PhoneNumber, Email, SpecialistTitle, TrainingStatus, HireDate)\r\n",
                "VALUES (1, 'Dr. Emily White', 'F', 45, '9876543210', 'emily.white@clinic.com', 'Orthodontist', 1, '2010-06-15'),\r\n",
                "\t\t(2, 'Dr. David Brown', 'M', 50, '8765432109', 'david.brown@clinic.com', 'Periodontist', 1, '2008-04-20'),\r\n",
                "\t\t(3, 'Dr. Lisa Kudrow', 'F', 40, '7654321098', 'lisa.kudrow@clinic.com', 'Endodontist', 1, '2012-09-17'),\r\n",
                "\t\t(4, 'Dr. Matt LeBlanc', 'M', 55, '6543210987', 'matt.leblanc@clinic.com', 'Prosthodontist', 1, '2005-05-21'),\r\n",
                "\t\t(5, 'Dr. Jennifer Aniston', 'F', 48, '5432109876', 'jennifer.aniston@clinic.com', 'Pediatric Dentist', 1, '2013-03-13'),\r\n",
                "\t\t(6, 'Dr. Matthew Perry', 'M', 47, '4321098765', 'matthew.perry@clinic.com', 'General Dentist', 1, '2015-07-19'),\r\n",
                "\t\t(7, 'Dr. Courteney Cox', 'F', 52, '3210987654', 'courteney.cox@clinic.com', 'Orthodontist', 1, '2009-11-25'),\r\n",
                "\t\t(8, 'Dr. David Schwimmer', 'M', 53, '2109876543', 'david.schwimmer@clinic.com', 'Oral Surgeon', 1, '2007-01-30'),\r\n",
                "\t\t(9, 'Dr. Paul Rudd', 'M', 50, '1098765432', 'paul.rudd@clinic.com', 'Periodontist', 1, '2006-08-16'),\r\n",
                "\t\t(10, 'Dr. Reese Witherspoon', 'F', 45, '0987654321', 'reese.witherspoon@clinic.com', 'General Dentist', 1, '2014-12-05');\r\n",
                "\r\n",
                "\r\n",
                "         ------------Receptionists------------\r\n",
                "\r\n",
                "\r\n",
                "INSERT INTO dim.Receptionists (ReceptionistID, ReceptionistName, Gender, Age, PhoneNumber, Email, HireDate)\r\n",
                "VALUES  (1, 'Sarah Parker', 'F', 35, '5551234567', 'sarah.parker@clinic.com', '2015-01-10'),\r\n",
                "\t\t(2, 'Mike Wilson', 'M', 28, '5559876543', 'mike.wilson@clinic.com', '2017-07-23'),\r\n",
                "\t\t(3, 'Tom Hanks', 'M', 38, '5551122334', 'tom.hanks@clinic.com', '2018-02-28'),\r\n",
                "\t\t(4, 'Julia Roberts', 'F', 41, '5552233445', 'julia.roberts@clinic.com', '2019-08-15'),\r\n",
                "\t\t(5, 'Leonardo DiCaprio', 'M', 43, '5553344556', 'leonardo.dicaprio@clinic.com', '2020-05-22'),\r\n",
                "\t\t(6, 'Meryl Streep', 'F', 49, '5554455667', 'meryl.streep@clinic.com', '2016-11-30'),\r\n",
                "\t\t(7, 'Denzel Washington', 'M', 54, '5555566778', 'denzel.washington@clinic.com', '2015-07-14'),\r\n",
                "\t\t(8, 'Sandra Bullock', 'F', 39, '5556677889', 'sandra.bullock@clinic.com', '2017-03-09'),\r\n",
                "\t\t(9, 'Brad Pitt', 'M', 47, '5557788990', 'brad.pitt@clinic.com', '2018-12-17'),\r\n",
                "\t\t(10, 'Angelina Jolie', 'F', 44, '5558899001', 'angelina.jolie@clinic.com', '2021-06-01');\r\n",
                "\r\n",
                "\r\n",
                "         -------------Procedures-------------\r\n",
                "\r\n",
                "\r\n",
                "INSERT INTO dim.Procedures (ProcedureID, ProcedureName, ProcedureCost, Category, Description) \r\n",
                "VALUES  (1, 'Tooth Cleaning', 100.00, 'Routine Checkup', 'Routine tooth cleaning and plaque removal'),\r\n",
                "\t\t(2, 'Cavity Filling', 200.00, 'Dental Surgery', 'Filling of dental cavities with appropriate material'),\r\n",
                "\t\t(3, 'Root Canal', 500.00, 'Dental Surgery', 'Procedure to treat infection at the center of a tooth'),\r\n",
                "\t\t(4, 'Dental Crown', 450.00, 'Dental Surgery', 'Artificial restoration that fits over the remaining part of a tooth'),\r\n",
                "\t\t(5, 'Teeth Whitening', 300.00, 'Cosmetic Dentistry', 'Procedure for whitening teeth to remove stains'),\r\n",
                "\t\t(6, 'Dental Implants', 1000.00, 'Dental Surgery', 'Surgical component that interfaces with the bone of the jaw to support a dental prosthesis'),\r\n",
                "\t\t(7, 'Veneers', 350.00, 'Cosmetic Dentistry', 'Layer of material placed over a tooth to improve aesthetics or protect damage'),\r\n",
                "\t\t(8, 'Dental Braces', 2000.00, 'Orthodontics', 'Devices used to align and straighten teeth'),\r\n",
                "\t\t(9, 'Tooth Extraction', 150.00, 'Dental Surgery', 'The removal of teeth from the dental alveolus in the alveolar bone'),\r\n",
                "\t\t(10, 'Dentures', 800.00, 'Prosthodontics', 'Custom-made replacements for missing teeth and are removable');\r\n",
                "\r\n",
                "\r\n",
                "\t\t ------------Appointments------------\r\n",
                "\r\n",
                "\r\n",
                "\r\n",
                "INSERT INTO f.Appointments (AppointmentID, fkPatient, fkDentist, fkReceptionist, fkCalendar, AppointmentDate, ApptCost, ApptRev, ApptProf) \r\n",
                "VALUES (1, 1, 1, 1, 1, '2023-01-01', 300.00, 500.00, 200.00),\r\n",
                "\t   (2, 2, 2, 2, 2, '2023-01-02', 200.00, 400.00, 200.00),\r\n",
                "\t   (3, 3, 3, 1, 3, '2023-01-03', 150.00, 300.00, 150.00),\r\n",
                "\t   (4, 4, 1, 2, 4, '2023-01-04', 250.00, 450.00, 200.00),\r\n",
                "\t   (5, 5, 2, 1, 5, '2023-01-05', 350.00, 550.00, 200.00),\r\n",
                "\t   (6, 1, 3, 2, 6, '2023-01-06', 400.00, 600.00, 200.00),\r\n",
                "\t   (7, 2, 1, 1, 7, '2023-01-07', 300.00, 500.00, 200.00),\r\n",
                "\t   (8, 3, 2, 2, 8, '2023-01-08', 200.00, 400.00, 200.00),\r\n",
                "\t   (9, 4, 3, 1, 9, '2023-01-09', 150.00, 350.00, 200.00),\r\n",
                "\t   (10, 5, 1, 2, 10, '2023-01-10', 250.00, 450.00, 200.00);\r\n",
                "\r\n",
                "\r\n",
                "\t     ------------ApptDetails------------\r\n",
                "\r\n",
                "\r\n",
                "INSERT INTO f.ApptDetails (AppointmentID, ProcedureID, ProcedureCount, ProcedureCost, ProcedureRev, ProcedureProf)\r\n",
                "VALUES (1, 1, 1, 100.00, 150.00, 50.00),\r\n",
                "\t\t(1, 2, 1, 200.00, 250.00, 50.00),\r\n",
                "\t\t(2, 1, 1, 100.00, 150.00, 50.00),\r\n",
                "\t\t(2, 3, 1, 150.00, 200.00, 50.00),\r\n",
                "\t\t(3, 2, 1, 200.00, 250.00, 50.00),\r\n",
                "\t\t(3, 1, 1, 100.00, 150.00, 50.00),\r\n",
                "\t\t(4, 3, 1, 150.00, 200.00, 50.00),\r\n",
                "\t\t(4, 2, 1, 200.00, 250.00, 50.00),\r\n",
                "\t\t(5, 1, 1, 100.00, 150.00, 50.00),\r\n",
                "\t\t(5, 3, 1, 150.00, 200.00, 50.00),\r\n",
                "\t\t(6, 2, 1, 200.00, 250.00, 50.00),\r\n",
                "\t\t(6, 1, 1, 100.00, 150.00, 50.00),\r\n",
                "\t\t(7, 3, 1, 150.00, 200.00, 50.00),\r\n",
                "\t\t(7, 2, 1, 200.00, 250.00, 50.00),\r\n",
                "\t\t(8, 1, 1, 100.00, 150.00, 50.00),\r\n",
                "\t\t(8, 3, 1, 150.00, 200.00, 50.00),\r\n",
                "\t\t(9, 2, 1, 200.00, 250.00, 50.00),\r\n",
                "\t\t(9, 1, 1, 100.00, 150.00, 50.00),\r\n",
                "\t\t(10, 3, 1, 150.00, 200.00, 50.00),\r\n",
                "\t\t(10, 2, 1, 200.00, 250.00, 50.00)\r\n",
                "\t\t\r\n",
                "\t\t;\r\n",
                ""
            ],
            "metadata": {
                "language": "sql",
                "azdata_cell_guid": "6d4648c0-243d-4eae-9ae6-5f2472a73cce"
            },
            "outputs": [],
            "execution_count": null
        },
        {
            "cell_type": "markdown",
            "source": [
                "I will now run select statements on each table and show their results."
            ],
            "metadata": {
                "language": "sql",
                "azdata_cell_guid": "71b2015a-bf04-480a-addf-ca12ba7cf68c"
            },
            "attachments": {}
        },
        {
            "cell_type": "code",
            "source": [
                "SELECT * \r\n",
                "FROM --Insert desired table"
            ],
            "metadata": {
                "language": "sql",
                "azdata_cell_guid": "649134c8-07c1-4cc0-be72-defeab9d2f85",
                "tags": []
            },
            "outputs": [],
            "execution_count": null
        },
        {
            "cell_type": "markdown",
            "source": [
                "You should have the same results as the images below if the scripts were executed correcty."
            ],
            "metadata": {
                "language": "sql",
                "azdata_cell_guid": "2481bf8f-de19-44cb-9693-66df957af766"
            },
            "attachments": {}
        },
        {
            "cell_type": "markdown",
            "source": [
                "## Patient Dimension Table Preview\r\n",
                "## \r\n",
                "![](https://i.imgur.com/TiNxGQP.png)\r\n",
                "\r\n",
                "## Dentist Dimension Table Preview\r\n",
                "## \r\n",
                "![](https://i.imgur.com/V6uSEHa.png)\r\n",
                "\r\n",
                "## Procedure Dimension Table Preview\r\n",
                "## \r\n",
                "![](https://i.imgur.com/Jnud0I8.png)\r\n",
                "\r\n",
                "## Receptionist Dimension Table Preview\r\n",
                "## \r\n",
                "\r\n",
                "![](https://i.imgur.com/SgiqKIA.png)\r\n",
                "\r\n",
                "## Appointment Fact Table Preview\r\n",
                "## \r\n",
                "![](https://i.imgur.com/kU4sp0L.png)\r\n",
                "\r\n",
                "## ApptDetails Fact Table Preview\r\n",
                "## \r\n",
                "![](https://i.imgur.com/vrOuEr4.png)\r\n",
                ""
            ],
            "metadata": {
                "language": "sql",
                "azdata_cell_guid": "038e71d5-3598-4c9e-9d21-8f127a38b185"
            },
            "attachments": {}
        },
        {
            "cell_type": "markdown",
            "source": [
                "Our data is now properly loaded into the database! We can can start to do some querying in order to test and shape this data.  \n",
                "  \n",
                "We will begin with some simple, queries, then begin to do pull some slightly more complex queries to test our joins and relationships. I will still keep it relatively simple, as the main goal is to demonstrate understanding and foundation."
            ],
            "metadata": {
                "language": "sql",
                "azdata_cell_guid": "5aa84c1f-87d5-4e27-88e7-3ad040967cec"
            },
            "attachments": {}
        },
        {
            "cell_type": "markdown",
            "source": [
                "### <span style=\"font-size: 14px;\">We have a variety of specialists, and it could be interesting to know the distribution of these specialists in our dental clinic.</span>"
            ],
            "metadata": {
                "language": "sql",
                "azdata_cell_guid": "fec7a6ca-1883-45c8-bd6a-3c960fd178a1"
            },
            "attachments": {}
        },
        {
            "cell_type": "code",
            "source": [
                "SELECT SpecialistTitle, COUNT(*) AS SpecialistCount\r\n",
                "FROM dim.Dentists\r\n",
                "GROUP BY SpecialistTitle;"
            ],
            "metadata": {
                "language": "sql",
                "azdata_cell_guid": "59d6717d-7ac0-4e7f-9540-52a4e54796b2"
            },
            "outputs": [],
            "execution_count": null
        },
        {
            "cell_type": "markdown",
            "source": [
                "![](https://i.imgur.com/ksy3X2F.png)  \n",
                "  \n",
                "\n",
                "### We can classify this as **\"Distribution of Specialists Among Dentists\"**"
            ],
            "metadata": {
                "language": "sql",
                "azdata_cell_guid": "624742c0-e8ab-4191-bfbb-335dcf26776d"
            },
            "attachments": {}
        },
        {
            "cell_type": "markdown",
            "source": [
                "We can use our data to understand the average cost of procedures, which can help in budget planning and pricing strategies."
            ],
            "metadata": {
                "language": "sql",
                "azdata_cell_guid": "a4c14860-2d4e-4c3a-9faf-ea9ca12189bb"
            },
            "attachments": {}
        },
        {
            "cell_type": "code",
            "source": [
                "SELECT AVG(ProcedureCost) as AvgProcCost\r\n",
                "\t  ,SUM(ProcedureCost) as TotalProcCost\r\n",
                "      ,SUM(ProcedureRev) as TotalProcRev\r\n",
                "      ,SUM(ProcedureProf) as TotalProcProf\r\n",
                "  FROM f.ApptDetails"
            ],
            "metadata": {
                "language": "sql",
                "azdata_cell_guid": "ddff0c10-7322-4db4-ac1c-d314bf377c93"
            },
            "outputs": [],
            "execution_count": null
        },
        {
            "cell_type": "markdown",
            "source": [
                "![](https://i.imgur.com/AefoNV1.png)\n",
                "\n",
                "### **We can classify this as \"Sales Summary\"**"
            ],
            "metadata": {
                "language": "sql",
                "azdata_cell_guid": "8b2f02db-34c2-49f4-9d2a-7125b8cb596d"
            },
            "attachments": {}
        },
        {
            "cell_type": "markdown",
            "source": [
                "Let'sntry a few more complex queries to test our relationships.  \n",
                "  \n",
                "  \n",
                "First, we will try our queries with a couple joins.  \n",
                "  \n",
                "We can use an inner join to match patients with their appointments, along with the procedure performed and which dentist did the work — all in a single table."
            ],
            "metadata": {
                "language": "sql",
                "azdata_cell_guid": "2866cca4-2bf4-4651-b486-309b89955940"
            },
            "attachments": {}
        },
        {
            "cell_type": "code",
            "source": [
                "SELECT p.PatientName, \r\n",
                "    a.AppointmentDate, \r\n",
                "    pr.ProcedureName,\r\n",
                "\tp.Insurance,\r\n",
                "    d.DentistName as 'Assigned Dentist'\r\n",
                "\r\n",
                "FROM dim.Patients p\r\n",
                "\r\n",
                "INNER JOIN f.Appointments a \r\n",
                "    ON p.PatientID = a.fkPatient\r\n",
                "INNER JOIN f.ApptDetails ad \r\n",
                "    ON a.AppointmentID = ad.AppointmentID\r\n",
                "INNER JOIN dim.Procedures pr \r\n",
                "    ON ad.ProcedureID = pr.ProcedureID\r\n",
                "INNER JOIN dim.Dentists d \r\n",
                "    ON a.fkDentist = d.DentistID\r\n",
                "\r\n",
                "ORDER BY a.AppointmentDate;"
            ],
            "metadata": {
                "language": "sql",
                "azdata_cell_guid": "73c53cf7-707d-48a7-935b-c6914b410716"
            },
            "outputs": [],
            "execution_count": null
        },
        {
            "cell_type": "markdown",
            "source": [
                "![](https://i.imgur.com/WqdKAtV.png)\n",
                "\n",
                "### We can classify this as **\"Quick Appointment Breakdown\"**"
            ],
            "metadata": {
                "language": "sql",
                "azdata_cell_guid": "ba571094-15ec-4c65-8d4e-67e891fcfa57"
            },
            "attachments": {}
        },
        {
            "cell_type": "markdown",
            "source": [
                "We can also try querying our data with CTE's to find some interesting results in our simulated data.  \n",
                "  \n",
                "For example, we can use a CTE and a quick join to calculate the Total Profit brought into the clinic by Dentist."
            ],
            "metadata": {
                "language": "sql",
                "azdata_cell_guid": "e9457c55-b794-423a-a0ce-c72a0bbec525"
            },
            "attachments": {}
        },
        {
            "cell_type": "code",
            "source": [
                "WITH DentistProfits AS (\r\n",
                "    SELECT fkDentist, SUM(ApptProf) AS TotalProfit\r\n",
                "    FROM f.Appointments\r\n",
                "    GROUP BY fkDentist\r\n",
                ")\r\n",
                "SELECT d.DentistName, dp.TotalProfit\r\n",
                "FROM DentistProfits dp\r\n",
                "INNER JOIN dim.Dentists d \r\n",
                " ON dp.fkDentist = d.DentistID;"
            ],
            "metadata": {
                "language": "sql",
                "azdata_cell_guid": "e772b5e1-7ee2-4101-b272-907ba4fe8243"
            },
            "outputs": [],
            "execution_count": null
        },
        {
            "cell_type": "markdown",
            "source": [
                "![](https://i.imgur.com/JMTMt2P.png)  \n",
                "  \n",
                "\n",
                "### We can classify this as **\"Total Profit per Dentist\"**"
            ],
            "metadata": {
                "language": "sql",
                "azdata_cell_guid": "83f43b16-05e5-43c2-aafb-e293de29e546"
            },
            "attachments": {}
        },
        {
            "cell_type": "markdown",
            "source": [
                "### would you look at like that— we just created a functional and foundational dental clinic database!\n",
                "\n",
                "Using DDL (Data Definition Language) commands, setting up tables for patients, dentists, receptionists, procedures, and appointments. Each table was carefully structured to capture essential details of a dental clinic's operation. After populating these tables with data, we delved into SQL queries, extracting valuable insights such as the most popular procedures and the profit generated by each dentist.\n",
                "\n",
                "We handled both the foundational aspects of database creation and the nuances of SQL querying. Using techniques like CTEs (Common Table Expressions) and various join operations, In the next section, we willperform more complex analyses, demonstrating not only a grasp of database theory but also practical skills in managing and interpreting real-world data. ."
            ],
            "metadata": {
                "language": "sql",
                "azdata_cell_guid": "7313ed7f-cd7b-4b61-bedc-a3bb89086e13"
            },
            "attachments": {}
        },
        {
            "cell_type": "markdown",
            "source": [
                "# Section 3: Loading Data from Existing/Larger Databases\n",
                "\n",
                "To be released in 2024."
            ],
            "metadata": {
                "language": "sql",
                "azdata_cell_guid": "ddf81a14-f1a9-4081-86ac-4e91bba6487b"
            },
            "attachments": {}
        },
        {
            "cell_type": "markdown",
            "source": [
                "# Section 4: Advanced Queries on Larger Databases\n",
                "\n",
                "To be released 2024."
            ],
            "metadata": {
                "language": "sql",
                "azdata_cell_guid": "3f108861-57cb-42ee-96ac-9263b5148385"
            },
            "attachments": {}
        }
    ]
}